{
 "cells": [
  {
   "cell_type": "markdown",
   "metadata": {},
   "source": [
    "[Ссылка на задание](https://stepik.org/lesson/24474/step/4?auth=login&unit=6779)\n",
    "\n",
    "Вам дано описание пирамиды из кубиков в формате XML.\n",
    "Кубики могут быть трех цветов: красный (red), зеленый (green) и синий (blue﻿).\n",
    "Для каждого кубика известны его цвет, и известны кубики, расположенные прямо под ним.\n",
    "\n",
    "Пример:\n",
    "\n",
    "    <cube color=\"blue\">\n",
    "      <cube color=\"red\">\n",
    "        <cube color=\"green\">\n",
    "        </cube>\n",
    "      </cube>\n",
    "      <cube color=\"red\">\n",
    "      </cube>\n",
    "    </cube>\n",
    " \n",
    "Введем понятие ценности для кубиков. Самый верхний кубик, соответствующий корню XML документа имеет ценность 1. Кубики, расположенные прямо под ним, имеют ценность 2. Кубики, расположенные прямо под нижележащими кубиками, имеют ценность 3. И т. д.\n",
    "\n",
    "Ценность цвета равна сумме ценностей всех кубиков этого цвета.\n",
    "\n",
    "Выведите через пробел три числа: ценности красного, зеленого и синего цветов.\n",
    "\n",
    "**Sample Input:**\n",
    "\n",
    "    <cube color=\"blue\"><cube color=\"red\"><cube color=\"green\"></cube></cube><cube color=\"red\"></cube></cube>\n",
    "Sample Output:\n",
    "\n",
    "4 3 1"
   ]
  },
  {
   "cell_type": "code",
   "execution_count": 8,
   "metadata": {},
   "outputs": [
    {
     "name": "stdout",
     "output_type": "stream",
     "text": [
      "<cube color=\"blue\"><cube color=\"red\"><cube color=\"green\"></cube></cube><cube color=\"red\"></cube></cube>\n",
      "4 3 1\n"
     ]
    }
   ],
   "source": [
    "import xml.etree.ElementTree as ET\n",
    "\n",
    "res = {'red': 0, 'blue': 0, 'green': 0}\n",
    "s = input()\n",
    "root = ET.fromstring(s)\n",
    "\n",
    "\n",
    "def countPoints(el, level):\n",
    "    res[el.attrib['color']] += level\n",
    "    \n",
    "    for child in el:\n",
    "        countPoints(child, level + 1)\n",
    "\n",
    "countPoints(root, 1)\n",
    "\n",
    "print(res['red'], res['green'], res['blue'], sep=' ')"
   ]
  },
  {
   "cell_type": "code",
   "execution_count": null,
   "metadata": {},
   "outputs": [],
   "source": []
  }
 ],
 "metadata": {
  "kernelspec": {
   "display_name": "Python 3",
   "language": "python",
   "name": "python3"
  },
  "language_info": {
   "codemirror_mode": {
    "name": "ipython",
    "version": 3
   },
   "file_extension": ".py",
   "mimetype": "text/x-python",
   "name": "python",
   "nbconvert_exporter": "python",
   "pygments_lexer": "ipython3",
   "version": "3.8.5"
  }
 },
 "nbformat": 4,
 "nbformat_minor": 4
}
