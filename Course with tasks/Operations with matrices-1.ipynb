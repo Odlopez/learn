{
 "cells": [
  {
   "cell_type": "markdown",
   "id": "8f4bd6fd",
   "metadata": {},
   "source": [
    "### Задача\n",
    "\n",
    "Решить систему линейных уравнений матричным способом.\n",
    "\n",
    "![Система уравнений](https://ucarecdn.com/22f49f9b-c7cc-421c-b7a1-360829fd54bd/)\n",
    "\n",
    "Для этого:\n",
    "\n",
    "- сформировать матрицу А, состоящую из коэффициентов левых частей уравнений (должна получиться матрица размером 4 на 4);\n",
    "- сформировать вектор В, каждый элемент которого - соответствующие значения правых частей уравнений;\n",
    "- вычислить вектор - решение системы уравнений по формуле:\n",
    "\n",
    "\n",
    "$X=A^{-1}\\cdot B$\n",
    "\n",
    "вывести полученный \n",
    "\n",
    "вывести полученный вектор, округлив значения до одного знака после запятой.\n",
    "Входные данные:\n",
    "\n",
    "нет\n",
    "Выходные данные:\n",
    "\n",
    " вектор-решение.\n",
    "Результат при выводе округлить до одного знака после запятой, используя функцию модуля numpy.\n",
    "\n",
    "Sample Input:\n",
    "\n",
    "Sample Output:\n",
    "\n",
    "[ 0.1 -0.1  0.2 -0.4]"
   ]
  },
  {
   "cell_type": "code",
   "execution_count": null,
   "id": "7f62116f",
   "metadata": {},
   "outputs": [],
   "source": [
    "import numpy as np\n",
    "import numpy.linalg as alg\n",
    "\n",
    "A = np.array([\n",
    "    [-2, -8.5, -3.4, 3.5],\n",
    "    [0, 2.4, 0, 8.2],\n",
    "    [2.5, 1.6, 2.1, 3],\n",
    "    [0.3, -0.4, -4.8, 4.6]\n",
    "])\n",
    "\n",
    "B = np.array([-1.8, -3.28, -0.5, -2.83])\n",
    "\n",
    "A_1 = alg.inv(A)\n",
    "\n",
    "X = np.round(np.dot(A_1, B), 1)\n",
    "\n",
    "print(X)"
   ]
  }
 ],
 "metadata": {
  "kernelspec": {
   "display_name": "Python 3",
   "language": "python",
   "name": "python3"
  },
  "language_info": {
   "codemirror_mode": {
    "name": "ipython",
    "version": 3
   },
   "file_extension": ".py",
   "mimetype": "text/x-python",
   "name": "python",
   "nbconvert_exporter": "python",
   "pygments_lexer": "ipython3",
   "version": "3.9.3"
  }
 },
 "nbformat": 4,
 "nbformat_minor": 5
}
