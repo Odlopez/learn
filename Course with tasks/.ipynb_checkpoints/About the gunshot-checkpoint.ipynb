{
 "cells": [
  {
   "cell_type": "markdown",
   "id": "7839f52e",
   "metadata": {},
   "source": [
    "[Ссылка на задачу](https://stepik.org/lesson/269786/step/5?after_pass_reset=true&auth=login&unit=250833)\n",
    "\n",
    "## Задача\n",
    "\n",
    "Решить задачу о попадании снаряда в мишень (напомним, что радиус мишени составляет 50 сантиметров или 0.5 метра) в общем виде, то есть чтобы пользователь вводил координаты движения снаряда в виде списков, а также координаты положения мишени. \n",
    "\n",
    "### Входные данные:\n",
    "\n",
    "- строка, в которой через пробел перечислены координаты движения снаряда по оси OX (вещественные числа);\n",
    "- строка, в которой через пробел перечислены координаты движения снаряда по оси OY (вещественные числа);\n",
    "- координаты мишени по оси ОХ;\n",
    "- координаты мишени по оси OY.\n",
    "\n",
    "### Выходные данные:\n",
    "\n",
    "- высота, на которой стоит пушка\n",
    "- yes или no в зависимости от того, попадет ли снаряд в мишень или нет.\n",
    "\n",
    "Для вывода результатов  используйте следующий формат:\n",
    "\n",
    "**```\"h0 = %6.2f, %2s\"```**\n",
    "\n",
    "### Sample Input 1:\n",
    "\n",
    "255.7 407.2 559.2 798.3 820.5 971.6 1221.1 1389.2   \n",
    "256.9 340.3 390.3 400.4 397.1 355.4 213.5 66.5   \n",
    "1380.4   \n",
    "65.4\n",
    "\n",
    "### Sample Output 1:\n",
    "\n",
    "h0 =  39.89, no"
   ]
  },
  {
   "cell_type": "code",
   "execution_count": null,
   "id": "65f149ba",
   "metadata": {},
   "outputs": [],
   "source": [
    "import numpy as np\n",
    "from numpy.polynomial.polynomial import polyfit\n",
    "\n",
    "x_cor = np.array(input().split(), dtype=float)\n",
    "y_cor = np.array(input().split(), dtype=float)\n",
    "x_target = float(input())\n",
    "y_target = float(input())\n",
    "R = 0.5\n",
    "\n",
    "def get_target(x, *c):\n",
    "    return c[0][0] + x * c[0][1] + x ** 2 * c[0][2]\n",
    "\n",
    "coef = polyfit(x_cor, y_cor, 2)\n",
    "\n",
    "res = get_target(0, coef)\n",
    "is_hit = 'yes' if abs(get_target(x_target, coef) - y_target) <= R else 'no'\n",
    "\n",
    "print(\"h0 = %6.2f, %2s\" % (res, is_hit))"
   ]
  }
 ],
 "metadata": {
  "kernelspec": {
   "display_name": "Python 3",
   "language": "python",
   "name": "python3"
  },
  "language_info": {
   "codemirror_mode": {
    "name": "ipython",
    "version": 3
   },
   "file_extension": ".py",
   "mimetype": "text/x-python",
   "name": "python",
   "nbconvert_exporter": "python",
   "pygments_lexer": "ipython3",
   "version": "3.9.3"
  }
 },
 "nbformat": 4,
 "nbformat_minor": 5
}
