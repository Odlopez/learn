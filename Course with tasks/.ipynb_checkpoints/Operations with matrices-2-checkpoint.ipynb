{
 "cells": [
  {
   "cell_type": "markdown",
   "id": "d2326713",
   "metadata": {},
   "source": [
    "[Ссылка на задание](https://stepik.org/lesson/269787/step/13?after_pass_reset=true&auth=login&unit=250834)\n",
    "\n",
    "## Задача.\n",
    "Дан многоугольник на плоскости, заданный  координатами своих вершин. Найти координаты вершин многоугольника, полученные поворотом каждой точки  на заданный угол вокруг начала координат. Вычислить средние значения координат по оси ОХ и ОУ повернутого многоугольника.\n",
    "\n",
    "![Пример с вращением многоугольника](https://ucarecdn.com/f33d30cb-7777-4eb4-a0b5-25d2faf47fa4/)\n",
    "\n",
    "### Входные данные:\n",
    "\n",
    "- количество вершин многоугольника (целое число);\n",
    "- список вершин многоугольника, каждая вершина на отдельной строке, строка состоит из двух чисел через пробел, определяющие координаты вершины по оси ОХ и OY (целые числа);\n",
    "- угол поворота в градусах (целое число).\n",
    "\n",
    "### Выходные данные:\n",
    "\n",
    "- среднее значение абсцисс (координат x) и ординат(координат y) точек повернутого многоугольника, для вывода использовать шаблон:\n",
    "```\"avg_x = %6.2f, avg_y = %6.2f\"```\n",
    "\n",
    "\n",
    "### Пояснение:\n",
    "\n",
    "- Создать двухмерный массив из вершин многоугольника (количество строк - количество вершин, количество столбцов  2, для координат x и у точки).\n",
    "- Составить матрицу поворота вокруг центра координат (\\phiϕ - значение угла поворота в радианах):\n",
    "\n",
    "rotate=\\begin{bmatrix} cos(\\phi) &sin(\\phi)\\\\ -sin(\\phi)&cos(\\phi) \\end{bmatrix}\n",
    "\n",
    "\n",
    "- Умножить массив вершин на матрицу поворота. Полученная матрица - координаты вершин многоугольника после поворота.\n",
    "- Найти среднее значение первого столбца (avg_x) и среднее значение второго (avg_y).\n",
    "\n",
    "\n",
    "### Sample Input:\n",
    "\n",
    "3   \n",
    "\n",
    "-7 -8   \n",
    "-11 4   \n",
    "-9 5   \n",
    "45   \n",
    "\n",
    "### Sample Output:\n",
    "\n",
    "avg_x =  -6.60, avg_y =  -6.13"
   ]
  },
  {
   "cell_type": "code",
   "execution_count": null,
   "id": "d3dbc852",
   "metadata": {},
   "outputs": [],
   "source": [
    "import numpy as np\n",
    "from math import cos, sin, radians\n",
    "\n",
    "k = int(input())\n",
    "Z = np.array([[float(i) for i in input().split()] for x in range(k)])\n",
    "ang = radians(int(input()))\n",
    "\n",
    "\n",
    "rotate = np.array([[cos(ang), sin(ang)], [-1 * sin(ang), cos(ang)]])\n",
    "\n",
    "res = np.dot(Z, rotate)\n",
    "avg_x, avg_y = np.mean(res, 0)\n",
    "\n",
    "print(\"avg_x = %6.2f, avg_y = %6.2f\" % (avg_x, avg_y))"
   ]
  }
 ],
 "metadata": {
  "kernelspec": {
   "display_name": "Python 3",
   "language": "python",
   "name": "python3"
  },
  "language_info": {
   "codemirror_mode": {
    "name": "ipython",
    "version": 3
   },
   "file_extension": ".py",
   "mimetype": "text/x-python",
   "name": "python",
   "nbconvert_exporter": "python",
   "pygments_lexer": "ipython3",
   "version": "3.9.3"
  }
 },
 "nbformat": 4,
 "nbformat_minor": 5
}
