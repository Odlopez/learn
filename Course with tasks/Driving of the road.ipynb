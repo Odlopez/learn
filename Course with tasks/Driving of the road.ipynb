{
 "cells": [
  {
   "cell_type": "markdown",
   "id": "8c11b0b7",
   "metadata": {},
   "source": [
    "## Задача\n",
    "Дорога из пункта **А** в пункт **В** состоит из нескольких участков, известны их длины. Для автомобиля установлена средняя скорость его движения на каждом участке. Автомобиль въехал на дорогу в начале участка **k** и выехал с нее после проезда по участку **p**. Найти сколько километров проехал автомобиль по дороге, время движения и среднюю скорость.\n",
    "\n",
    "### Входные данные:\n",
    "\n",
    "- строка, в которой через пробел перечислены длины всех участков дороги (целые числа);\n",
    "- строка, в которой через пробел перечислены средние скорости на участках (целые числа);\n",
    "- номер участка, на котором автомобиль въехал на дорогу (целое число);\n",
    "- номер участка, после которого выехал (целое число).\n",
    "\n",
    "### Выходные данные:\n",
    "\n",
    "\n",
    "- длина пути с **k** по **p** участок;\n",
    "- время в пути;\n",
    "- средняя скорость движения автомобиля.\n",
    "\n",
    "Для вывода значений использовать строку формата:\n",
    "\n",
    "**```\"S = %3d км, T = %5.2f час, V = %5.2f км/ч\" ```**\n",
    "\n",
    "### Sample Input:\n",
    "\n",
    "20 8 9 18 5 12 16 16 6 7  \n",
    "44 70 44 66 46 38 38 37 66 67  \n",
    "4   \n",
    "\n",
    "7  \n",
    "\n",
    "### Sample Output:\n",
    "\n",
    "S =  49 км, T =  1.28 час, V = 38.34 км/ч"
   ]
  },
  {
   "cell_type": "code",
   "execution_count": 1,
   "id": "ef8fae03",
   "metadata": {},
   "outputs": [
    {
     "ename": "ModuleNotFoundError",
     "evalue": "No module named 'numpy'",
     "output_type": "error",
     "traceback": [
      "\u001b[1;31m---------------------------------------------------------------------------\u001b[0m",
      "\u001b[1;31mModuleNotFoundError\u001b[0m                       Traceback (most recent call last)",
      "\u001b[1;32m<ipython-input-1-419f2c897cc0>\u001b[0m in \u001b[0;36m<module>\u001b[1;34m\u001b[0m\n\u001b[1;32m----> 1\u001b[1;33m \u001b[1;32mimport\u001b[0m \u001b[0mnumpy\u001b[0m \u001b[1;32mas\u001b[0m \u001b[0mnp\u001b[0m\u001b[1;33m\u001b[0m\u001b[1;33m\u001b[0m\u001b[0m\n\u001b[0m\u001b[0;32m      2\u001b[0m \u001b[1;33m\u001b[0m\u001b[0m\n\u001b[0;32m      3\u001b[0m \u001b[0mpaths\u001b[0m \u001b[1;33m=\u001b[0m \u001b[0mnp\u001b[0m\u001b[1;33m.\u001b[0m\u001b[0marray\u001b[0m\u001b[1;33m(\u001b[0m\u001b[0minput\u001b[0m\u001b[1;33m(\u001b[0m\u001b[1;33m)\u001b[0m\u001b[1;33m.\u001b[0m\u001b[0msplit\u001b[0m\u001b[1;33m(\u001b[0m\u001b[1;33m)\u001b[0m\u001b[1;33m,\u001b[0m \u001b[0mdtype\u001b[0m\u001b[1;33m=\u001b[0m\u001b[0mint\u001b[0m\u001b[1;33m)\u001b[0m\u001b[1;33m\u001b[0m\u001b[1;33m\u001b[0m\u001b[0m\n\u001b[0;32m      4\u001b[0m \u001b[0mspeeds\u001b[0m \u001b[1;33m=\u001b[0m \u001b[0mnp\u001b[0m\u001b[1;33m.\u001b[0m\u001b[0marray\u001b[0m\u001b[1;33m(\u001b[0m\u001b[0minput\u001b[0m\u001b[1;33m(\u001b[0m\u001b[1;33m)\u001b[0m\u001b[1;33m.\u001b[0m\u001b[0msplit\u001b[0m\u001b[1;33m(\u001b[0m\u001b[1;33m)\u001b[0m\u001b[1;33m,\u001b[0m \u001b[0mdtype\u001b[0m\u001b[1;33m=\u001b[0m\u001b[0mint\u001b[0m\u001b[1;33m)\u001b[0m\u001b[1;33m\u001b[0m\u001b[1;33m\u001b[0m\u001b[0m\n\u001b[0;32m      5\u001b[0m \u001b[0mk\u001b[0m \u001b[1;33m=\u001b[0m \u001b[0mint\u001b[0m\u001b[1;33m(\u001b[0m\u001b[0minput\u001b[0m\u001b[1;33m(\u001b[0m\u001b[1;33m)\u001b[0m\u001b[1;33m)\u001b[0m\u001b[1;33m\u001b[0m\u001b[1;33m\u001b[0m\u001b[0m\n",
      "\u001b[1;31mModuleNotFoundError\u001b[0m: No module named 'numpy'"
     ]
    }
   ],
   "source": [
    "import numpy as np\n",
    "\n",
    "paths = np.array(input().split(), dtype=int)\n",
    "speeds = np.array(input().split(), dtype=int)\n",
    "k = int(input())\n",
    "p = int(input())\n",
    "\n",
    "S = np.sum(paths[k:p+1])\n",
    "T = np.sum(paths[k:p+1] / speeds[k:p+1])\n",
    "V = round(S / T, 2)\n",
    "\n",
    "print(f\"S = {S:3d} км, T = {T:5.2f} час, V = {V:5.2f} км/ч\" )"
   ]
  },
  {
   "cell_type": "code",
   "execution_count": null,
   "id": "0b1d8700",
   "metadata": {},
   "outputs": [],
   "source": []
  }
 ],
 "metadata": {
  "kernelspec": {
   "display_name": "Python 3",
   "language": "python",
   "name": "python3"
  },
  "language_info": {
   "codemirror_mode": {
    "name": "ipython",
    "version": 3
   },
   "file_extension": ".py",
   "mimetype": "text/x-python",
   "name": "python",
   "nbconvert_exporter": "python",
   "pygments_lexer": "ipython3",
   "version": "3.9.3"
  }
 },
 "nbformat": 4,
 "nbformat_minor": 5
}
