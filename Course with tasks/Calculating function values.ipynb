{
 "cells": [
  {
   "cell_type": "markdown",
   "metadata": {},
   "source": [
    "[Ссылка на задание](https://stepik.org/lesson/267708/step/15?thread=solutions&unit=248683)\n",
    "\n",
    "Для вычисления и прогноза численности населения Земли С. П. Капица предложил следующую формулу:\n",
    "\n",
    "\\begin{equation}\n",
    "N(t)={C\\over \\tau}\\cdot {arcctg({{T_1-t}\\over \\tau}})\n",
    "\\end{equation}\n",
    "\n",
    "где:  \n",
    "    t - год, для которого вычисляется численность населения;  \n",
    "    С - 172 миллиарда человек·лет;  \n",
    "    T1 -  2000 год;  \n",
    "    $\\tau$ - 45 лет.  \n",
    "\n",
    "Вычислить численность населения в заданные годы.\n",
    "\n",
    "Реализовать задачу на основе шаблона.\n",
    "\n",
    "### Входные данные:\n",
    "\n",
    "- строка, состоящая из n целых чисел, разделенных пробелами, каждое число - год.   \n",
    "\n",
    "### Выходные данные:\n",
    "\n",
    "- **n** строк, в каждой из которых выведен год и численность населения в этом году, для вывода использовать формат:  \n",
    "  **\"%5d - %6.3f миллиард(ов)\"**\n",
    "\n",
    "### Подсказка.\n",
    "\n",
    "- Подробно ввод списка через строку рассмотрен в шаге 12 данного урока. \n",
    "- В модуле **math** функции **arcctan()** нет, но ее можно выразить через **arctan()** следующим образом:\n",
    "\n",
    "\\begin{equation}\n",
    "arcctan(x) ={ \\pi\\over 2} - arctan(x)\n",
    "\\end{equation}\n",
    "\n",
    "- функция **arctan()** в модуле **math** определена как **atan()**.\n",
    "\n",
    "### Sample Input:\n",
    "\n",
    "1220 2369 2636 1032 2657 198 1118\n",
    "\n",
    "### Sample Output:\n",
    "\n",
    " 1220 -  0.220 миллиард(ов)  \n",
    " 2369 - 11.544 миллиард(ов)  \n",
    " 2636 - 11.738 миллиард(ов)  \n",
    " 1032 -  0.178 миллиард(ов)  \n",
    " 2657 - 11.746 миллиард(ов)  \n",
    "  198 -  0.095 миллиард(ов)  \n",
    " 1118 -  0.195 миллиард(ов)  "
   ]
  },
  {
   "cell_type": "code",
   "execution_count": 4,
   "metadata": {},
   "outputs": [
    {
     "name": "stdout",
     "output_type": "stream",
     "text": [
      "1220 2369 2636 1032 2657 198 1118\n",
      " 1220 -  0.220 миллиард(ов)\n",
      " 2369 - 11.544 миллиард(ов)\n",
      " 2636 - 11.738 миллиард(ов)\n",
      " 1032 -  0.178 миллиард(ов)\n",
      " 2657 - 11.746 миллиард(ов)\n",
      "  198 -  0.095 миллиард(ов)\n",
      " 1118 -  0.195 миллиард(ов)\n"
     ]
    }
   ],
   "source": [
    "from math import atan, pi\n",
    "\n",
    "def get_arcctg(x):\n",
    "    return pi / 2 - atan(x)\n",
    "\n",
    "def compute_population(t):\n",
    "    return 172 / 45 *  get_arcctg((2000 - t) / 45)\n",
    "\n",
    "for it in [f\"{int(i):5d} - {compute_population(int(i)):6.3f} миллиард(ов)\" for i in input().split()]:\n",
    "    print(it)   "
   ]
  }
 ],
 "metadata": {
  "kernelspec": {
   "display_name": "Python 3",
   "language": "python",
   "name": "python3"
  },
  "language_info": {
   "codemirror_mode": {
    "name": "ipython",
    "version": 3
   },
   "file_extension": ".py",
   "mimetype": "text/x-python",
   "name": "python",
   "nbconvert_exporter": "python",
   "pygments_lexer": "ipython3",
   "version": "3.8.5"
  }
 },
 "nbformat": 4,
 "nbformat_minor": 4
}
