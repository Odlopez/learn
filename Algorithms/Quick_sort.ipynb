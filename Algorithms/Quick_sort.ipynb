{
 "cells": [
  {
   "cell_type": "markdown",
   "metadata": {},
   "source": [
    "[Ссылка на задание](https://stepik.org/lesson/13249/step/6?unit=3434)\n",
    "\n",
    "## Задача на программирование: точки и отрезки\n",
    "\n",
    "В первой строке задано два целых числа  $1\\leq n\\leq50000$ и $1\\leq m\\leq50000$  — количество отрезков и точек на прямой, соответственно.  Следующие n строк содержат по два целых числа $a_{i}$ и $b_{i}$ ($a_{i} \\leq b_{i}$) — координаты концов отрезков. Последняя строка содержит m целых чисел — координаты точек. Все координаты не превышают $10^{8}$ по модулю. Точка считается принадлежащей отрезку, если она находится внутри него или на границе. Для каждой точки в порядке появления во вводе выведите, скольким отрезкам она принадлежит.\n",
    "\n",
    "### Sample Input:\n",
    "2 3   \n",
    "0 5   \n",
    "7 10   \n",
    "1 6 11   \n",
    "\n",
    "### Sample Output:\n",
    "1 0 0"
   ]
  },
  {
   "cell_type": "code",
   "execution_count": 4,
   "metadata": {
    "scrolled": true
   },
   "outputs": [
    {
     "name": "stdout",
     "output_type": "stream",
     "text": [
      "6 6\n",
      "0 3\n",
      "1 3\n",
      "2 3\n",
      "3 4\n",
      "3 5\n",
      "3 6\n",
      "1 2 3 4 5 6\n",
      "2 3 6 3 2 1 "
     ]
    }
   ],
   "source": [
    "from bisect import bisect_right, bisect_left\n",
    "\n",
    "n, m = [int(i) for i in input().split()]\n",
    "\n",
    "b_lst = []\n",
    "e_lst = []\n",
    "\n",
    "for i in range(n):\n",
    "    b, e = [int(i) for i in input().split()]\n",
    "    b_lst.append(b)\n",
    "    e_lst.append(e)\n",
    "    \n",
    "points = [int(i) for i in input().split()]\n",
    "\n",
    "b_lst.sort()\n",
    "e_lst.sort()\n",
    "\n",
    "for p in points:\n",
    "    q =  bisect_right(b_lst, p) -  bisect_left(e_lst, p)\n",
    "    print(q, end=' ')\n",
    "    "
   ]
  },
  {
   "cell_type": "markdown",
   "metadata": {},
   "source": [
    "6 6\n",
    "0 3\n",
    "1 3\n",
    "2 3\n",
    "3 4\n",
    "3 5\n",
    "3 6\n",
    "1 2 3 4 5 6"
   ]
  }
 ],
 "metadata": {
  "kernelspec": {
   "display_name": "Python 3",
   "language": "python",
   "name": "python3"
  },
  "language_info": {
   "codemirror_mode": {
    "name": "ipython",
    "version": 3
   },
   "file_extension": ".py",
   "mimetype": "text/x-python",
   "name": "python",
   "nbconvert_exporter": "python",
   "pygments_lexer": "ipython3",
   "version": "3.8.5"
  }
 },
 "nbformat": 4,
 "nbformat_minor": 4
}
