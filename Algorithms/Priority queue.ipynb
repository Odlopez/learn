{
 "cells": [
  {
   "cell_type": "markdown",
   "metadata": {},
   "source": [
    "[Ссылка на задание](https://stepik.org/lesson/13240/step/8?discussion=3811324&unit=3426)\n",
    "\n",
    "## Задача на программирование: очередь с приоритетами\n",
    "\n",
    "Первая строка входа содержит число операций $$1\\leq n\\leq10^{5}$$.   \n",
    "Каждая из последующих n строк задают операцию одного из следующих двух типов:\n",
    "\n",
    "- Insert x, где $$1\\leq x\\leq10^{9}$$ — целое число;\n",
    "- ExtractMax.\n",
    "\n",
    "\n",
    "Первая операция добавляет число **x** в очередь с приоритетами, вторая — извлекает максимальное число и выводит его.\n",
    "\n",
    "\n",
    "### Sample Input:\n",
    "6   \n",
    "Insert 200\n",
    "Insert 10\n",
    "ExtractMax\n",
    "Insert 5\n",
    "Insert 500\n",
    "ExtractMax\n",
    "\n",
    "### Sample Output:\n",
    "\n",
    "200\n",
    "500"
   ]
  },
  {
   "cell_type": "code",
   "execution_count": 35,
   "metadata": {},
   "outputs": [
    {
     "name": "stdout",
     "output_type": "stream",
     "text": [
      "[2, 2, 3, 12, 12, 15, 18, 18]\n",
      "18\n",
      "18\n",
      "15\n"
     ]
    }
   ],
   "source": [
    "from math import floor\n",
    "import sys\n",
    "\n",
    "class Heap:\n",
    "    def __init__(self):\n",
    "        self.a = []\n",
    "        self.f_i = 0\n",
    "        self.l_i = 0\n",
    "        \n",
    "    \n",
    "    def zeroing(self):\n",
    "        self.f_i = 0\n",
    "        self.l_i = len(self.a) - 1\n",
    "        \n",
    "    def get_mean_index(self):\n",
    "        return floor((self.l_i - self.f_i) / 2) + self.f_i\n",
    "    \n",
    "    \n",
    "    def extract_max(self):\n",
    "        print(self.a.pop())\n",
    "        self.l_i = len(self.a) - 1 if self.a else 0\n",
    "\n",
    "            \n",
    "    def insert(self, el):\n",
    "        if not self.a:\n",
    "            self.a.append(el)\n",
    "            self.f_i = 0\n",
    "            self.l_i = len(self.a) - 1\n",
    "            return\n",
    "        \n",
    "        mean_index = self.get_mean_index()\n",
    "        mean = self.a[mean_index]\n",
    "        \n",
    "        if el == mean:\n",
    "            self.a.insert(mean_index + 1, el)\n",
    "            self.zeroing()\n",
    "        elif el > mean:\n",
    "            if self.l_i > mean_index:\n",
    "                self.f_i = mean_index + 1\n",
    "                self.insert(el)\n",
    "            else:\n",
    "                self.a.insert(mean_index + 1, el)\n",
    "                self.zeroing()\n",
    "        else:         \n",
    "            if mean_index == 0:\n",
    "                self.a.insert(0, el)\n",
    "                self.zeroing()\n",
    "            elif mean_index ==  self.f_i:\n",
    "                self.a.insert(mean_index, el)\n",
    "                self.zeroing()\n",
    "            else:\n",
    "                self.l_i = mean_index - 1\n",
    "                self.insert(el)\n",
    "                \n",
    "                \n",
    "heap = Heap()\n",
    "x = [2, 3, 18, 15, 18, 12, 12, 2]\n",
    "for i in x:\n",
    "    heap.insert(i)\n",
    "print(heap.a)\n",
    "\n",
    "heap.extract_max()\n",
    "heap.extract_max()\n",
    "heap.extract_max()"
   ]
  },
  {
   "cell_type": "code",
   "execution_count": null,
   "metadata": {},
   "outputs": [],
   "source": []
  }
 ],
 "metadata": {
  "kernelspec": {
   "display_name": "Python 3",
   "language": "python",
   "name": "python3"
  },
  "language_info": {
   "codemirror_mode": {
    "name": "ipython",
    "version": 3
   },
   "file_extension": ".py",
   "mimetype": "text/x-python",
   "name": "python",
   "nbconvert_exporter": "python",
   "pygments_lexer": "ipython3",
   "version": "3.8.5"
  }
 },
 "nbformat": 4,
 "nbformat_minor": 4
}
