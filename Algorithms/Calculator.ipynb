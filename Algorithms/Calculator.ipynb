{
 "cells": [
  {
   "cell_type": "markdown",
   "metadata": {},
   "source": [
    "[Ссылка на задачу](https://stepik.org/lesson/13262/step/5?unit=3447)\n",
    "\n",
    "## Задача на программирование: калькулятор\n",
    "\n",
    "У вас есть примитивный калькулятор, который умеет выполнять всего три операции с текущим числом x: заменить x на 2x, 3x или x+1. По данному целому числу $1\\leq n\\leq10^{5}$ определите минимальное число операций k, необходимое, чтобы получить n из 1. Выведите k и последовательность промежуточных чисел.\n",
    "\n",
    "### Sample Input 1:\n",
    "\n",
    "1\n",
    "\n",
    "### Sample Output 1:\n",
    "\n",
    "0\n",
    "\n",
    "1 \n",
    "\n",
    "### Sample Input 2:\n",
    "\n",
    "5\n",
    "\n",
    "### Sample Output 2:\n",
    "\n",
    "3\n",
    "\n",
    "1 2 4 5 \n",
    "\n",
    "### Sample Input 3:\n",
    "\n",
    "96234\n",
    "\n",
    "### Sample Output 3:\n",
    "\n",
    "14\n",
    "\n",
    "1 3 9 10 11 22 66 198 594 1782 5346 16038 16039 32078 96234 "
   ]
  },
  {
   "cell_type": "code",
   "execution_count": 15,
   "metadata": {},
   "outputs": [
    {
     "name": "stdout",
     "output_type": "stream",
     "text": [
      "96234\n",
      "14\n",
      "1 3 9 10 11 33 99 297 891 2673 5346 16038 16039 48117 96234 "
     ]
    }
   ],
   "source": [
    "k = int(input())\n",
    "\n",
    "D = {1: 0}\n",
    "is_in_progress = True\n",
    "\n",
    "if k == 1:\n",
    "    print(0)\n",
    "    print(1)\n",
    "else:\n",
    "    prev_ = set([1])\n",
    "    \n",
    "    is_in_progress = True\n",
    "    while is_in_progress:\n",
    "        \n",
    "        next_ = set()\n",
    "        for it in prev_:\n",
    "            act_1 = it + 1\n",
    "            act_2 = it * 2\n",
    "            act_3 = it * 3\n",
    "            if act_1 not in D:\n",
    "                D[act_1] = it\n",
    "                next_.add(act_1)\n",
    "            if act_2 not in D:\n",
    "                D[act_2] = it\n",
    "                next_.add(act_2)\n",
    "            if act_3 not in D:\n",
    "                D[act_3] = it\n",
    "                next_.add(act_3)\n",
    "            if act_1 == k or act_2 == k or act_3 == k:\n",
    "                is_in_progress = False\n",
    "                break\n",
    "\n",
    "        prev_ = next_    \n",
    "    res = [k]    \n",
    "    while k > 1:\n",
    "        res.append(D[k])\n",
    "        k = D[k]\n",
    "        \n",
    "    res.reverse()\n",
    "    print(len(res) - 1)\n",
    "    for i in res:\n",
    "        print(i, end = ' ')"
   ]
  }
 ],
 "metadata": {
  "kernelspec": {
   "display_name": "Python 3",
   "language": "python",
   "name": "python3"
  },
  "language_info": {
   "codemirror_mode": {
    "name": "ipython",
    "version": 3
   },
   "file_extension": ".py",
   "mimetype": "text/x-python",
   "name": "python",
   "nbconvert_exporter": "python",
   "pygments_lexer": "ipython3",
   "version": "3.8.5"
  }
 },
 "nbformat": 4,
 "nbformat_minor": 4
}
