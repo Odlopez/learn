{
 "cells": [
  {
   "cell_type": "markdown",
   "metadata": {},
   "source": [
    "[Ссылка на задачу](https://stepik.org/lesson/13262/step/4?unit=3447)\n",
    "\n",
    "## Задача на программирование: лестница\n",
    "\n",
    "Даны число $1\\leq n\\leq10^{2}$ ступенек лестницы и целые числа $-10^{4} \\leq a_{1},...,a_{n} \\leq 10^{4}$, которыми помечены ступеньки. Найдите максимальную сумму, которую можно получить, идя по лестнице снизу вверх (от нулевой до n-й ступеньки), каждый раз поднимаясь на одну или две ступеньки.\n",
    "\n",
    "### Sample Input 1:\n",
    "2\n",
    "\n",
    "1 2   \n",
    "\n",
    "\n",
    "### Sample Output 1:\n",
    "   \n",
    "3   \n",
    "   \n",
    "### Sample Input 2:\n",
    "   \n",
    "2\n",
    "\n",
    "2 -1   \n",
    "    \n",
    "### Sample Output 2:\n",
    "   \n",
    "1   \n",
    "   \n",
    "### Sample Input 3:\n",
    "   \n",
    "3\n",
    "\n",
    "-1 2 1   \n",
    "   \n",
    "### Sample Output 3:\n",
    "   \n",
    "3   "
   ]
  },
  {
   "cell_type": "code",
   "execution_count": 10,
   "metadata": {
    "scrolled": true
   },
   "outputs": [
    {
     "name": "stdout",
     "output_type": "stream",
     "text": [
      "34\n",
      "-195 -3433 -9958 8620 -7782 -1520 -9678 -7509 -6322 8535 1186 4433 8870 538 4003 -6132 -3257 -6098 -2717 8075 6635 9234 8851 -8957 -8418 -4147 9752 6322 4033 3526 8621 -4276 6823 5158\n",
      "86361\n"
     ]
    }
   ],
   "source": [
    "n = int(input())\n",
    "steps = [int(i) for i in input().split()]\n",
    "\n",
    "if n == 1:\n",
    "    print(steps[0])\n",
    "elif n < 3:\n",
    "    print(max(steps[1], steps[0] + steps[1]))\n",
    "else:\n",
    "    prev_ = steps[0]\n",
    "    next_ = max(steps[1], steps[0] + steps[1])\n",
    "    \n",
    "    for i in range(2, n):\n",
    "        max_ = max(prev_, next_)\n",
    "        prev_ = next_\n",
    "        next_ = max_ + steps[i]\n",
    "        \n",
    "\n",
    "    print(next_)\n",
    "        "
   ]
  }
 ],
 "metadata": {
  "kernelspec": {
   "display_name": "Python 3",
   "language": "python",
   "name": "python3"
  },
  "language_info": {
   "codemirror_mode": {
    "name": "ipython",
    "version": 3
   },
   "file_extension": ".py",
   "mimetype": "text/x-python",
   "name": "python",
   "nbconvert_exporter": "python",
   "pygments_lexer": "ipython3",
   "version": "3.8.5"
  }
 },
 "nbformat": 4,
 "nbformat_minor": 4
}
