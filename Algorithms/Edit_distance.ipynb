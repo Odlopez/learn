{
 "cells": [
  {
   "cell_type": "markdown",
   "metadata": {},
   "source": [
    "[Ссылка на задачу](https://stepik.org/lesson/13258/step/8?unit=3443)\n",
    "\n",
    "## Задача на программирование: расстояние редактирования\n",
    "\n",
    "Вычислите расстояние редактирования двух данных непустых строк длины не более $10^{2}$, содержащих строчные буквы латинского алфавита.\n",
    "\n",
    "### Sample Input 1:   \n",
    "ab   \n",
    "ab   \n",
    "\n",
    "### Sample Output 1:   \n",
    "0   \n",
    "\n",
    "### Sample Input 2:   \n",
    "short   \n",
    "ports   \n",
    "\n",
    "### Sample Output 2:   \n",
    "3"
   ]
  },
  {
   "cell_type": "code",
   "execution_count": 17,
   "metadata": {},
   "outputs": [
    {
     "name": "stdout",
     "output_type": "stream",
     "text": [
      "short\n",
      "ports\n",
      "3\n"
     ]
    }
   ],
   "source": [
    "s_1 = input()\n",
    "s_2 = input()\n",
    "\n",
    "i = 1\n",
    "prev = [i for i in range(0, len(s_1) + 1)]\n",
    "rows_count = len(s_2)\n",
    "\n",
    "\n",
    "while i <= rows_count:\n",
    "    cur = [i if k == 0 else None for k in range(0, len(s_1) + 1)]\n",
    "    for j in range(1, len(s_1) + 1):\n",
    "        min_x = min(cur[j - 1], prev[j - 1], prev[j])\n",
    "        cur[j] = min_x if min_x == prev[j - 1] and s_1[j - 1] == s_2[i - 1] else min_x + 1\n",
    "    prev = cur\n",
    "    i += 1\n",
    "    \n",
    "print(prev[-1])"
   ]
  }
 ],
 "metadata": {
  "kernelspec": {
   "display_name": "Python 3",
   "language": "python",
   "name": "python3"
  },
  "language_info": {
   "codemirror_mode": {
    "name": "ipython",
    "version": 3
   },
   "file_extension": ".py",
   "mimetype": "text/x-python",
   "name": "python",
   "nbconvert_exporter": "python",
   "pygments_lexer": "ipython3",
   "version": "3.8.5"
  }
 },
 "nbformat": 4,
 "nbformat_minor": 4
}
