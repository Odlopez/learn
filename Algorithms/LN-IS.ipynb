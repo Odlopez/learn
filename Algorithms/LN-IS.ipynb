{
 "cells": [
  {
   "cell_type": "markdown",
   "metadata": {},
   "source": [
    "[Ссылка на задание](https://stepik.org/lesson/13257/step/6?unit=3442)\n",
    "\n",
    "## Задача на программирование повышенной сложности: наибольшая невозрастающая подпоследовательность\n",
    "\n",
    " $1\\leq n\\leq10^{3}$  и массив $A\\left[1...n\\right]$, содержащий неотрицательные целые числа, не превосходящие 10^{9}. Найдите наибольшую невозрастающую подпоследовательность в A. В первой строке выведите её длину k, во второй — её индексы $1 \\leq i_{1} < i_{2} < ... < i_{k} \\leq n$ (таким образом, $A\\left[i_{1}\\right] \\geq A\\left[i_{2}\\right] \\geq ... \\geq A\\left[i_{n}\\right]$).\n",
    " \n",
    "### Sample Input:\n",
    "5\n",
    "\n",
    "5 3 4 4 2   \n",
    "\n",
    "### Sample Output:\n",
    "4   \n",
    "\n",
    "1 3 4 5    "
   ]
  },
  {
   "cell_type": "code",
   "execution_count": null,
   "metadata": {},
   "outputs": [],
   "source": [
    "from bisect import bisect_left\n",
    "\n",
    "n = int(input())\n",
    "lst = [int(i) for i in input().split()]\n",
    "\n",
    "n = len(lst)\n",
    "def set_k(el):\n",
    "    k.append(el[1])\n",
    "    if el[2]:\n",
    "        set_k(el[2])\n",
    "\n",
    "k = []\n",
    "res = {1: [(lst[0], 1, None)]}\n",
    "mins = [lst[0]]\n",
    "max_k = 1\n",
    "\t\n",
    "for i in range(1, n):\n",
    "    bis_i = bisect_left(mins, lst[i])\n",
    "    if bis_i == max_k:\n",
    "        mins[-1] = lst[i]\n",
    "        res[1] = [(lst[i], i + 1, None)]\n",
    "    elif bis_i == 0:\n",
    "        max_k += 1\n",
    "        mins.insert(0, lst[i])\n",
    "        res[max_k] = [(lst[i], i + 1, res[max_k - 1][-1])]\n",
    "    else:\n",
    "        index = max_k - bis_i + 1\n",
    "        res[index].append((lst[i], i + 1, res[index - 1][-1]))\n",
    "        mins[max_k - index] = lst[i]\n",
    "\n",
    "set_k(res[max_k][-1])\n",
    "k.reverse()\n",
    "\n",
    "for r in k:\n",
    "    print(r, end=' ')"
   ]
  }
 ],
 "metadata": {
  "kernelspec": {
   "display_name": "Python 3",
   "language": "python",
   "name": "python3"
  },
  "language_info": {
   "codemirror_mode": {
    "name": "ipython",
    "version": 3
   },
   "file_extension": ".py",
   "mimetype": "text/x-python",
   "name": "python",
   "nbconvert_exporter": "python",
   "pygments_lexer": "ipython3",
   "version": "3.8.5"
  }
 },
 "nbformat": 4,
 "nbformat_minor": 4
}
