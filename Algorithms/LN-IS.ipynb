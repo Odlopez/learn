{
 "cells": [
  {
   "cell_type": "code",
   "execution_count": null,
   "metadata": {},
   "outputs": [],
   "source": [
    "from bisect import bisect_left\n",
    "\n",
    "n = int(input())\n",
    "lst = [int(i) for i in input().split()]\n",
    "\n",
    "n = len(lst)\n",
    "def set_k(el):\n",
    "    k.append(el[1])\n",
    "    if el[2]:\n",
    "        set_k(el[2])\n",
    "\n",
    "k = []\n",
    "res = {1: [(lst[0], 1, None)]}\n",
    "mins = [lst[0]]\n",
    "max_k = 1\n",
    "\t\n",
    "for i in range(1, n):\n",
    "    bis_i = bisect_left(mins, lst[i])\n",
    "    if bis_i == max_k:\n",
    "        mins[-1] = lst[i]\n",
    "        res[1] = [(lst[i], i + 1, None)]\n",
    "    elif bis_i == 0:\n",
    "        max_k += 1\n",
    "        mins.insert(0, lst[i])\n",
    "        res[max_k] = [(lst[i], i + 1, res[max_k - 1][-1])]\n",
    "    else:\n",
    "        index = max_k - bis_i + 1\n",
    "        res[index].append((lst[i], i + 1, res[index - 1][-1]))\n",
    "        mins[max_k - index] = lst[i]\n",
    "\n",
    "set_k(res[max_k][-1])\n",
    "k.reverse()\n",
    "\n",
    "for r in k:\n",
    "    print(r, end=' ')"
   ]
  }
 ],
 "metadata": {
  "kernelspec": {
   "display_name": "Python 3",
   "language": "python",
   "name": "python3"
  },
  "language_info": {
   "codemirror_mode": {
    "name": "ipython",
    "version": 3
   },
   "file_extension": ".py",
   "mimetype": "text/x-python",
   "name": "python",
   "nbconvert_exporter": "python",
   "pygments_lexer": "ipython3",
   "version": "3.8.5"
  }
 },
 "nbformat": 4,
 "nbformat_minor": 4
}
