{
 "cells": [
  {
   "cell_type": "markdown",
   "metadata": {},
   "source": [
    "[Ссылка на задание](https://stepik.org/lesson/13257/step/5?unit=3442)\n",
    "\n",
    "## Задача на программирование: наибольшая последовательнократная подпоследовательность\n",
    "\n",
    "Дано целое число $1\\leq n\\leq10^{3}$  и массив $A\\left[1...n\\right]$ натуральных чисел, не превосходящих 2 ⋅ 10^{9}.\n",
    "Выведите максимальное $1\\leq k\\leq n$, для которого найдётся подпоследовательность $1 \\leq i_{1} < i_{2} < ... < i_{k} \\leq n$ \n",
    "длины kk, в которой каждый элемент делится на предыдущий (формально: для всех $1 \\leq j < k, A\\left[i_{j}\\right] | A\\left[i_{j+1}\\right] $)\n",
    "\n",
    "### Sample Input:   \n",
    "4\n",
    "\n",
    "3 6 7 12   \n",
    "\n",
    "### Sample Output:\n",
    "3"
   ]
  },
  {
   "cell_type": "code",
   "execution_count": 6,
   "metadata": {},
   "outputs": [
    {
     "name": "stdout",
     "output_type": "stream",
     "text": [
      "4\n",
      "3 6 7 12\n",
      "i = 1 j = 0\n",
      "lst[i] = 6 lst[j] = 3\n",
      "True\n",
      "\n",
      "i = 2 j = 0\n",
      "lst[i] = 7 lst[j] = 3\n",
      "False\n",
      "\n",
      "i = 2 j = 1\n",
      "lst[i] = 7 lst[j] = 6\n",
      "False\n",
      "\n",
      "i = 3 j = 0\n",
      "lst[i] = 12 lst[j] = 3\n",
      "True\n",
      "\n",
      "i = 3 j = 1\n",
      "lst[i] = 12 lst[j] = 6\n",
      "True\n",
      "\n",
      "i = 3 j = 2\n",
      "lst[i] = 12 lst[j] = 7\n",
      "False\n",
      "\n",
      "3\n",
      "[1, 2, 1, 3]\n"
     ]
    }
   ],
   "source": [
    "n = int(input())\n",
    "lst = [int(i) for i in input().split()]\n",
    "res = []\n",
    "max_k = 0\n",
    "\n",
    "for i in range(n):\n",
    "    cur_max = 1\n",
    "    for j in range(0, i):\n",
    "        if not lst[i] % lst[j]:\n",
    "            cur_max += 0 if cur_max > res[j] else 1\n",
    "    res.append(cur_max)\n",
    "    if cur_max > max_k:\n",
    "        max_k = cur_max\n",
    "        \n",
    "print(max_k)"
   ]
  }
 ],
 "metadata": {
  "kernelspec": {
   "display_name": "Python 3",
   "language": "python",
   "name": "python3"
  },
  "language_info": {
   "codemirror_mode": {
    "name": "ipython",
    "version": 3
   },
   "file_extension": ".py",
   "mimetype": "text/x-python",
   "name": "python",
   "nbconvert_exporter": "python",
   "pygments_lexer": "ipython3",
   "version": "3.8.5"
  }
 },
 "nbformat": 4,
 "nbformat_minor": 4
}
