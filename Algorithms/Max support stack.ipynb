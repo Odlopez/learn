{
 "cells": [
  {
   "cell_type": "markdown",
   "metadata": {},
   "source": [
    "[Ссылка на задание](https://stepik.org/lesson/41234/step/4?unit=19818)\n",
    "\n",
    "## Стек с поддержкой максимума\n",
    "\n",
    "___\n",
    "\n",
    "### Sample Input 1:\n",
    "\n",
    "5   \n",
    "push 2   \n",
    "push 1   \n",
    "max   \n",
    "pop   \n",
    "max   \n",
    "\n",
    "___\n",
    "\n",
    "### Sample Output 1:\n",
    "\n",
    "2   \n",
    "2   \n",
    "\n",
    "___\n",
    "\n",
    "### Sample Input 2:\n",
    "\n",
    "5   \n",
    "push 1   \n",
    "push 2   \n",
    "max   \n",
    "pop   \n",
    "max   \n",
    "\n",
    "___\n",
    "\n",
    "### Sample Output 2:\n",
    "\n",
    "2   \n",
    "1   \n",
    "\n",
    "___\n",
    "\n",
    "### Sample Input 3:\n",
    "\n",
    "10   \n",
    "push 2   \n",
    "push 3   \n",
    "push 9   \n",
    "push 7   \n",
    "push 2   \n",
    "max   \n",
    "max   \n",
    "max   \n",
    "pop   \n",
    "max   \n",
    "Sample Output 3:\n",
    "\n",
    "9\n",
    "9\n",
    "9\n",
    "9"
   ]
  },
  {
   "cell_type": "code",
   "execution_count": null,
   "metadata": {},
   "outputs": [],
   "source": []
  }
 ],
 "metadata": {
  "kernelspec": {
   "display_name": "Python 3",
   "language": "python",
   "name": "python3"
  },
  "language_info": {
   "codemirror_mode": {
    "name": "ipython",
    "version": 3
   },
   "file_extension": ".py",
   "mimetype": "text/x-python",
   "name": "python",
   "nbconvert_exporter": "python",
   "pygments_lexer": "ipython3",
   "version": "3.8.5"
  }
 },
 "nbformat": 4,
 "nbformat_minor": 4
}
