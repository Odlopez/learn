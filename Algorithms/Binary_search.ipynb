{
 "cells": [
  {
   "cell_type": "markdown",
   "metadata": {},
   "source": [
    "[Ссылка на задание](https://stepik.org/lesson/13246/step/4?unit=3431)\n",
    "\n",
    "## Задача на программирование: двоичный поиск\n",
    "\n",
    "В первой строке даны целое число $1\\leq n\\leq10^{5}$ и массив $A\\left[1...n\\right]$ из n различных натуральных чисел, не превышающих $10^{9}$, в порядке возрастания, во второй — целое число $1\\leq k\\leq10^{5}$ и k натуральных чисел $b_{1},...b_{k}$, не превышиющих $10^{9}$. Для каждого i от 1 до k необходимо вывести индекс $1\\leq j\\leq n$, для которого $A\\left[j\\right] == b_{i}$, или −1, если такого j нет.\n",
    "\n",
    "Sample Input:\n",
    "\n",
    "5 1 5 8 12 13\n",
    "5 8 1 23 1 11\n",
    "Sample Output:\n",
    "\n",
    "3 1 -1 1 -1\n"
   ]
  },
  {
   "cell_type": "code",
   "execution_count": 16,
   "metadata": {},
   "outputs": [
    {
     "name": "stdout",
     "output_type": "stream",
     "text": [
      "5 1 5 8 12 13\n",
      "9 8 1 23 1 11 13 15 13 1\n",
      "3 1 -1 1 -1 5 -1 5 1 "
     ]
    }
   ],
   "source": [
    "from math import floor\n",
    "\n",
    "class Ter:\n",
    "    def __init__(self, a):\n",
    "        self.a = a\n",
    "        self.zeros()\n",
    "        \n",
    "        \n",
    "    def zeros(self):\n",
    "        self.f_i = 1\n",
    "        self.l_i = len(self.a) - 1\n",
    "        \n",
    "        \n",
    "    def get_mean_i(self):\n",
    "        return floor((self.l_i - self.f_i) / 2) + self.f_i\n",
    "    \n",
    "    \n",
    "    def get_mean(self, mean_i):\n",
    "        return self.a[mean_i]\n",
    "        \n",
    "    def get_index(self, el):\n",
    "        if self.l_i == self.f_i:\n",
    "            self.zeros()\n",
    "            \n",
    "            return self.l_i if self.a[self.l_i] == el else -1\n",
    "        \n",
    "        mean_i = self.get_mean_i()\n",
    "        mean = self.get_mean(mean_i)\n",
    "        \n",
    "        if el == mean:\n",
    "            self.zeros()\n",
    "            return mean_i\n",
    "        elif el > mean:\n",
    "            self.f_i = mean_i + 1\n",
    "        else:\n",
    "            self.l_i = mean_i\n",
    "            \n",
    "        return self.get_index(el)\n",
    "\n",
    "ter = Ter([int(el) for el in input().split()])\n",
    "lst = [int(el) for i, el in enumerate(input().split()) if i > 0]\n",
    "\n",
    "for x in lst:\n",
    "    print(ter.get_index(x), end=\" \")"
   ]
  }
 ],
 "metadata": {
  "kernelspec": {
   "display_name": "Python 3",
   "language": "python",
   "name": "python3"
  },
  "language_info": {
   "codemirror_mode": {
    "name": "ipython",
    "version": 3
   },
   "file_extension": ".py",
   "mimetype": "text/x-python",
   "name": "python",
   "nbconvert_exporter": "python",
   "pygments_lexer": "ipython3",
   "version": "3.8.5"
  }
 },
 "nbformat": 4,
 "nbformat_minor": 4
}
