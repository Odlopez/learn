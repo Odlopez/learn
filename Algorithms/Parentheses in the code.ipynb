{
 "cells": [
  {
   "cell_type": "markdown",
   "id": "941381a8",
   "metadata": {},
   "source": [
    "## Расстановка скобок в коде\n",
    "\n",
    "### Sample Input 1:\n",
    "\n",
    "([](){([])})\n",
    "\n",
    "___ \n",
    "\n",
    "### Sample Output 1:\n",
    "\n",
    "Success\n",
    "\n",
    "___\n",
    "\n",
    "### Sample Input 2:\n",
    "\n",
    "()[]}\n",
    "\n",
    "___\n",
    "\n",
    "### Sample Output 2:\n",
    "\n",
    "5\n",
    "\n",
    "___\n",
    "\n",
    "\n",
    "### Sample Input 3:\n",
    "\n",
    "{{[()]]\n",
    "\n",
    "____ \n",
    "\n",
    "### Sample Output 3:\n",
    "\n",
    "7"
   ]
  },
  {
   "cell_type": "code",
   "execution_count": null,
   "id": "8bffff50",
   "metadata": {},
   "outputs": [],
   "source": [
    "s = input()\n",
    "\n",
    "ap = {'(', '{', '['}\n",
    "reverse = {\n",
    "    ')': '(',\n",
    "    ']': '[',\n",
    "    '}': '{'\n",
    "}\n",
    "stack = []\n",
    "def check_parentheses(s):\n",
    "    for i, l in enumerate(s):\n",
    "        if not reverse.get(l) and l in ap:\n",
    "            stack.append([l, i+1])\n",
    "        else:\n",
    "            if len(stack) and reverse.get(l) and stack[len(stack) - 1][0] == reverse[l]:\n",
    "                stack.pop()\n",
    "            elif reverse.get(l):\n",
    "                return i + 1\n",
    "            else:\n",
    "                continue\n",
    "     \n",
    "    return 'Success' if not len(stack) else stack[len(stack) - 1][1]\n",
    "            \n",
    "print(check_parentheses(s))"
   ]
  }
 ],
 "metadata": {
  "kernelspec": {
   "display_name": "Python 3",
   "language": "python",
   "name": "python3"
  },
  "language_info": {
   "codemirror_mode": {
    "name": "ipython",
    "version": 3
   },
   "file_extension": ".py",
   "mimetype": "text/x-python",
   "name": "python",
   "nbconvert_exporter": "python",
   "pygments_lexer": "ipython3",
   "version": "3.9.3"
  }
 },
 "nbformat": 4,
 "nbformat_minor": 5
}
