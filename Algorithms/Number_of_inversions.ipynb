{
 "cells": [
  {
   "cell_type": "markdown",
   "metadata": {},
   "source": [
    "[Ссылка на задание]()\n",
    "\n",
    "## Задача на программирование: число инверсий\n",
    "\n",
    "Первая строка содержит число $1\\leq n\\leq10^{5}$, вторая — массив $A\\left[1...n\\right]$ , содержащий натуральные числа, не превосходящие $10^{9}$. Необходимо посчитать число пар индексов $1\\leq i < j \\leq n$, для которых $A\\left[i\\right] > A\\left[j\\right]$. Такая пара элементов называется инверсией массива. Количество инверсий в массиве является в некотором смысле его мерой неупорядоченности: например, в упорядоченном по неубыванию массиве инверсий нет вообще, а в массиве, упорядоченном по убыванию, инверсию образуют каждые два элемента.)\n",
    "\n",
    "### Sample Input:\n",
    "\n",
    "5   \n",
    "\n",
    "2 3 9 2 9   \n",
    "\n",
    "### Sample Output:\n",
    "\n",
    "2"
   ]
  },
  {
   "cell_type": "code",
   "execution_count": 34,
   "metadata": {},
   "outputs": [
    {
     "name": "stdout",
     "output_type": "stream",
     "text": [
      "1 2 3 5 4\n",
      "[1, 2, 3, 4, 5]\n",
      "1\n"
     ]
    }
   ],
   "source": [
    "from math import ceil\n",
    "\n",
    "inv = 0\n",
    "\n",
    "def split_arr(arr):\n",
    "    median = ceil(len(arr) / 2)\n",
    "    return (arr[:median], arr[median:])\n",
    "\n",
    "\n",
    "def merge(arr_1, arr_2):\n",
    "    global inv\n",
    "    \n",
    "    if not arr_1:\n",
    "        return arr_2\n",
    "    elif not arr_2:\n",
    "        return arr_1\n",
    "    \n",
    "    res = []\n",
    "    top_1, top_2 = 0, 0\n",
    "    \n",
    "    while len(res) < len(arr_1) + len(arr_2):\n",
    "        if arr_1[top_1] <= arr_2[top_2]:\n",
    "            res.append(arr_1[top_1])\n",
    "            top_1 += 1\n",
    "        else:\n",
    "            res.append(arr_2[top_2])\n",
    "            top_2 += 1\n",
    "            inv += len(arr_1) - top_1\n",
    "            \n",
    "        if top_1 == len(arr_1):\n",
    "            res.extend(arr_2[top_2:])\n",
    "        elif top_2 == len(arr_2):\n",
    "            res.extend(arr_1[top_1:])\n",
    "    \n",
    "    return res\n",
    "\n",
    "def sort_arrs(arr):\n",
    "    if len(arr) >= 2:\n",
    "        arr_1, arr_2 = split_arr(arr)\n",
    "    else:\n",
    "        return arr\n",
    "    \n",
    "   \n",
    "    return merge(sort_arrs(arr_1), sort_arrs(arr_2))\n",
    "        \n",
    "        \n",
    "lst = [int(i) for i in input().split()]\n",
    "sort_arrs(lst)\n",
    "print(inv)"
   ]
  }
 ],
 "metadata": {
  "kernelspec": {
   "display_name": "Python 3",
   "language": "python",
   "name": "python3"
  },
  "language_info": {
   "codemirror_mode": {
    "name": "ipython",
    "version": 3
   },
   "file_extension": ".py",
   "mimetype": "text/x-python",
   "name": "python",
   "nbconvert_exporter": "python",
   "pygments_lexer": "ipython3",
   "version": "3.8.5"
  }
 },
 "nbformat": 4,
 "nbformat_minor": 4
}
